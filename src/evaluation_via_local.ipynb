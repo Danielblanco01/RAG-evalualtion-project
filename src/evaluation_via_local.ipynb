{
 "cells": [
  {
   "cell_type": "code",
   "execution_count": null,
   "id": "edbf1c9e",
   "metadata": {},
   "outputs": [],
   "source": [
    "from datasets import load_dataset"
   ]
  },
  {
   "cell_type": "code",
   "execution_count": null,
   "id": "14575628",
   "metadata": {},
   "outputs": [],
   "source": [
    "eval_dataset = load_dataset(\"json\", data_files=\"gemini_ds.json\")[\"train\"]"
   ]
  },
  {
   "cell_type": "code",
   "execution_count": null,
   "id": "a93636eb",
   "metadata": {},
   "outputs": [],
   "source": [
    "from langchain_community.llms import Ollama\n",
    "from ragas.llms import LangchainLLMWrapper\n",
    "from ragas.embeddings import LangchainEmbeddingsWrapper\n",
    "from langchain_huggingface import HuggingFaceEmbeddings\n",
    "from ragas.evaluation import evaluate\n",
    "from ragas.metrics import faithfulness, answer_relevancy, context_precision, context_recall\n",
    "from datasets import Dataset\n",
    "\n",
    "# ⚙️ Instancia el modelo Ollama\n",
    "ollama_llm = Ollama(model=\"llama3.1:8b\", timeout=60)  # Puedes usar otro como mistral, llama2, etc.\n",
    "\n",
    "# ⚙️ Wrappers\n",
    "llm = LangchainLLMWrapper(ollama_llm)\n",
    "\n",
    "embed_model = LangchainEmbeddingsWrapper(\n",
    "    HuggingFaceEmbeddings(model_name=\"sentence-transformers/all-MiniLM-L6-v2\")\n",
    ")\n",
    "\n",
    "# ⚙️ Asigna modelos a las métricas\n",
    "faithfulness.llm = llm\n",
    "faithfulness.embeddings = embed_model\n",
    "\n",
    "answer_relevancy.llm = llm\n",
    "answer_relevancy.embeddings = embed_model\n",
    "\n",
    "context_precision.llm = llm\n",
    "context_precision.embeddings = embed_model\n",
    "\n",
    "context_recall.llm = llm\n",
    "context_recall.embeddings = embed_model"
   ]
  },
  {
   "cell_type": "code",
   "execution_count": null,
   "id": "51676c3c",
   "metadata": {},
   "outputs": [],
   "source": [
    "results = evaluate(\n",
    "    eval_dataset,  # tu Dataset ya limpio con 'question', 'contexts', 'answer' y 'ground_truth'\n",
    "    metrics=[faithfulness, answer_relevancy, context_precision],\n",
    "    batch_size=1\n",
    ")"
   ]
  },
  {
   "cell_type": "code",
   "execution_count": null,
   "id": "625787fc",
   "metadata": {},
   "outputs": [],
   "source": [
    "groq_dataset = load_dataset(\"json\", data_files=\"groq_ds.json\")[\"train\"]"
   ]
  },
  {
   "cell_type": "code",
   "execution_count": 42,
   "id": "dff0280f",
   "metadata": {},
   "outputs": [
    {
     "name": "stderr",
     "output_type": "stream",
     "text": [
      "Batch 121/300:   0%|          | 0/1 [00:00<?, ?it/s]        Exception raised in Job[120]: OutputParserException(Invalid json output: The provided text fragments do not contain information about the number of distinct phrases used for phrase addition in adversarial attack generation. Here's how I broke down each sentence into one or more fully understandable statements:\n",
      "1. Original sentence: The provided text fragments do not contain information about the number of distinct phrases used for phrase addition in adversarial attack generation.\n",
      "   * Statement 1: The provided text fragments are analyzed.\n",
      "   * Statement 2: The analysis does not provide information about the number of distinct phrases.\n",
      "   * Statement 3: The number of distinct phrases is related to phrase addition in adversarial attack generation.\n",
      "   * Statement 4: There is no information available about the number of distinct phrases used for phrase addition.\n",
      "For troubleshooting, visit: https://python.langchain.com/docs/troubleshooting/errors/OUTPUT_PARSING_FAILURE )\n",
      "Batch 166/300:   0%|          | 0/1 [00:00<?, ?it/s]        Prompt fix_output_format failed to parse output: The output parser failed to parse the output including retries.\n",
      "Prompt fix_output_format failed to parse output: The output parser failed to parse the output including retries.\n",
      "Prompt fix_output_format failed to parse output: The output parser failed to parse the output including retries.\n",
      "Prompt statement_generator_prompt failed to parse output: The output parser failed to parse the output including retries.\n",
      "Exception raised in Job[165]: RagasOutputParserException(The output parser failed to parse the output including retries.)\n",
      "Batch 190/300:   0%|          | 0/1 [00:00<?, ?it/s]        Exception raised in Job[189]: OutputParserException(Invalid json output: The training and inference batches contain mentions from the same document.\n",
      "The paper \"nlpeer/PeerRead-CONLL2016/13\" explicitly focuses on pairing event mentions within the same document as anaphors and antecedent candidates during both training and inference.\n",
      "The paper \"nlpeer/ARR-22/c53c0e92d95b1e222ebbecee84efd55c426d3f9916ac9f50280eaebe6640d35f9d395744c228f1f352eb4954a72a42b3886d581396fa3202056879d792fb62b7\" mentions training with coreferent mentions.\n",
      "The method uses coreferent mentions during training, potentially improving representation learning and generalization.\n",
      "The method defines a similarity measure and procedure for sampling positive training examples based on coreference.\n",
      "The method evaluates the similarity measure and procedure in a clustering/coreference setting.\n",
      "The method calculates mention recall based on coreferent neighbors.\n",
      "The initial fragment discussing training and inference batches with a [SEP] token doesn't explicitly mention whether the mentions and entity candidates originate from the same document.\n",
      "Coreference is used, but it's not clear if batches are exclusively built from the same document to maximize coreference.\n",
      "For troubleshooting, visit: https://python.langchain.com/docs/troubleshooting/errors/OUTPUT_PARSING_FAILURE )\n",
      "Evaluating: 100%|██████████| 300/300 [33:44<00:00,  6.75s/it]\n"
     ]
    },
    {
     "name": "stdout",
     "output_type": "stream",
     "text": [
      "{'faithfulness': 0.5871, 'answer_relevancy': 0.3473, 'context_precision': 0.4775}\n"
     ]
    }
   ],
   "source": [
    "# ⚠️ Usa batch_size pequeño\n",
    "results2 = evaluate(\n",
    "    groq_dataset,  # tu Dataset ya limpio con 'question', 'contexts', 'answer' y 'ground_truth'\n",
    "    metrics=[faithfulness, answer_relevancy, context_precision],\n",
    "    batch_size=1\n",
    ")\n",
    "\n",
    "print(results2)"
   ]
  },
  {
   "cell_type": "code",
   "execution_count": null,
   "id": "d341f6fb",
   "metadata": {},
   "outputs": [],
   "source": [
    "qwen_ds = load_dataset(\"json\", data_files=\"qwen_ds.json\")[\"train\"]"
   ]
  },
  {
   "cell_type": "code",
   "execution_count": null,
   "id": "5f434da7",
   "metadata": {},
   "outputs": [],
   "source": [
    "results3 = evaluate(\n",
    "    qwen_ds,\n",
    "    metrics=[faithfulness, answer_relevancy, context_precision],\n",
    "    batch_size=1\n",
    ")"
   ]
  },
  {
   "cell_type": "code",
   "execution_count": null,
   "id": "8daef419",
   "metadata": {},
   "outputs": [],
   "source": [
    "results_df = results.to_pandas()\n",
    "results_df.to_csv(\"gemini1.csv\", index=False)\n",
    "\n",
    "results2_df = results2.to_pandas()\n",
    "results2_df.to_csv(\"groq1.csv\", index=False)\n",
    "\n",
    "results3_df = results3.to_pandas()\n",
    "results3_df.to_csv(\"qwen1.csv\", index=False)"
   ]
  },
  {
   "cell_type": "code",
   "execution_count": null,
   "id": "3422a49f",
   "metadata": {},
   "outputs": [],
   "source": [
    "gemini_ds_2 = load_dataset(\"json\", data_files=\"gemini_ds_2.json\")[\"train\"]"
   ]
  },
  {
   "cell_type": "code",
   "execution_count": null,
   "id": "a722809b",
   "metadata": {},
   "outputs": [],
   "source": [
    "gemini2_results  = evaluate(\n",
    "    gemini_ds_2,\n",
    "    metrics=[faithfulness, answer_relevancy, context_precision],\n",
    "    batch_size=1\n",
    ")"
   ]
  },
  {
   "cell_type": "code",
   "execution_count": null,
   "id": "da81b544",
   "metadata": {},
   "outputs": [],
   "source": [
    "groq_ds2 = load_dataset(\"json\", data_files=\"groq_ds2.json\")[\"train\"]"
   ]
  },
  {
   "cell_type": "code",
   "execution_count": null,
   "id": "724f1283",
   "metadata": {},
   "outputs": [],
   "source": [
    "groq2_result  = evaluate(\n",
    "    groq_ds2,\n",
    "    metrics=[faithfulness, answer_relevancy, context_precision],\n",
    "    batch_size=1\n",
    ")"
   ]
  },
  {
   "cell_type": "code",
   "execution_count": null,
   "id": "a8e31fc2",
   "metadata": {},
   "outputs": [],
   "source": [
    "qwen_ds2 = load_dataset(\"json\", data_files=\"qwen_ds2.json\")[\"train\"]"
   ]
  },
  {
   "cell_type": "code",
   "execution_count": null,
   "id": "5b9141ee",
   "metadata": {},
   "outputs": [],
   "source": [
    "qwen2_result  = evaluate(\n",
    "    qwen_ds2,\n",
    "    metrics=[faithfulness, answer_relevancy, context_precision],\n",
    "    batch_size=1\n",
    ")\n"
   ]
  },
  {
   "cell_type": "code",
   "execution_count": 36,
   "id": "c20a6772",
   "metadata": {},
   "outputs": [],
   "source": [
    "gemini2_df = gemini2_results.to_pandas()\n",
    "gemini2_df.to_csv(\"gemini2.csv\", index=False)\n",
    "groq2_df = groq2_result.to_pandas()\n",
    "groq2_df.to_csv(\"groq2.csv\", index=False)\n",
    "qwen2_df = qwen2_result.to_pandas()\n",
    "qwen2_df.to_csv(\"qwen2.csv\", index=False)"
   ]
  },
  {
   "cell_type": "code",
   "execution_count": null,
   "id": "84725365",
   "metadata": {},
   "outputs": [],
   "source": [
    "groq_avanzado = load_dataset(\"json\", data_files=\"groq_advanced_ds.json\")[\"train\"]"
   ]
  },
  {
   "cell_type": "code",
   "execution_count": null,
   "id": "e027c5c6",
   "metadata": {},
   "outputs": [],
   "source": [
    "groq_avanzado  = evaluate(\n",
    "    groq_avanzado,\n",
    "    metrics=[faithfulness, answer_relevancy, context_precision],\n",
    "    batch_size=1\n",
    ")"
   ]
  },
  {
   "cell_type": "code",
   "execution_count": null,
   "id": "1f60d00d",
   "metadata": {},
   "outputs": [],
   "source": [
    "gemini_avanzado_ds = load_dataset(\"json\", data_files=\"gemini_advanced_ds.json\")[\"train\"]"
   ]
  },
  {
   "cell_type": "code",
   "execution_count": null,
   "id": "517fc815",
   "metadata": {},
   "outputs": [],
   "source": [
    "gemini_avanzado  = evaluate(\n",
    "    gemini_avanzado_ds,\n",
    "    metrics=[faithfulness, answer_relevancy, context_precision],\n",
    "    batch_size=1\n",
    ")"
   ]
  },
  {
   "cell_type": "code",
   "execution_count": null,
   "id": "9068761b",
   "metadata": {},
   "outputs": [],
   "source": [
    "qwen_avanzado_ds = load_dataset(\"json\", data_files=\"qwen_advanced_ds.json\")[\"train\"]"
   ]
  },
  {
   "cell_type": "code",
   "execution_count": null,
   "id": "8df3d38e",
   "metadata": {},
   "outputs": [],
   "source": [
    "qwen_avanzado = evaluate(\n",
    "    qwen_avanzado_ds,\n",
    "    metrics=[faithfulness, answer_relevancy, context_precision],\n",
    "    batch_size=1\n",
    ")"
   ]
  },
  {
   "cell_type": "code",
   "execution_count": 37,
   "id": "dd804231",
   "metadata": {},
   "outputs": [],
   "source": [
    "geminiavanzado_df = gemini_avanzado.to_pandas()\n",
    "geminiavanzado_df.to_csv(\"gemini_avanzado.csv\", index=False)\n",
    "\n",
    "groqavanzado_df = groq_avanzado.to_pandas()\n",
    "groqavanzado_df.to_csv(\"groq_avanzado.csv\", index=False)\n",
    "\n",
    "qwenavanzado_df = qwen_avanzado.to_pandas()\n",
    "qwenavanzado_df.to_csv(\"qwen_avanzado.csv\", index=False)"
   ]
  },
  {
   "cell_type": "markdown",
   "id": "7ba6c317",
   "metadata": {},
   "source": [
    "#### Presentación de resultados"
   ]
  },
  {
   "cell_type": "markdown",
   "id": "81c44e3a",
   "metadata": {},
   "source": [
    "## Métricas RAGAS – Comparativa entre Configuraciones\n",
    "\n",
    "## Primera Arquitectura\n",
    "\n",
    "#### Configuración 1: `chunk_size=512`, `overlap=150`, `temp=0.1`\n",
    "\n",
    "| Modelo | Faithfulness  | Answer Relevancy  | Context Precision  |\n",
    "|--------|:--------------:|:------------------:|:-------------------:|\n",
    "| **Gemini 2.0 Flash** | 0.5758 | 0.4667 | 0.5831 |\n",
    "| **LLaMA 3.3 70B** | 0.5005 | 0.4123 | 0.4489 |\n",
    "| **Qwen 3 32B** | 0.5976 | 0.3528 | 0.4911 |\n",
    "\n",
    "#### Configuración 2: `chunk_size=800`, `overlap=250`, `temp=0.5`\n",
    "\n",
    "| Modelo | Faithfulness  | Answer Relevancy  | Context Precision  |\n",
    "|--------|:--------------:|:------------------:|:-------------------:|\n",
    "| **Gemini 2.0 Flash** | **0.6255** ⭐ | **0.2404** ⭐ | 0.4920 |\n",
    "| **LLaMA 3.3 70B** | **0.5923** ⭐ | 0.4211 | **0.4805** ⭐ |\n",
    "| **Qwen 3 32B** | 0.5783 | **0.4121** ⭐ | **0.4941** ⭐ |\n",
    "\n",
    "---\n",
    "\n",
    "### Mejores Rendimientos por Métrica:\n",
    "\n",
    "- **Faithfulness**: Gemini 2.0 Flash (Config 2) - 0.6255\n",
    "- **Answer Relevancy**: Gemini 2.0 Flash (Config 1) - 0.4667  \n",
    "- **Context Precision**: Qwen 3 32B (Config 2) - 0.4941"
   ]
  },
  {
   "cell_type": "markdown",
   "id": "3630f042",
   "metadata": {},
   "source": [
    "## Métricas RAGAS – Segunda Arquitectura\n",
    "\n",
    "| Modelo | Faithfulness  | Answer Relevancy  | Context Precision  |\n",
    "|--------|:--------------:|:------------------:|:-------------------:|\n",
    "| **Gemini 2.0 Flash** | 0.6557 | 0.4179 | 0.6650 |\n",
    "| **LLaMA 3.3 70B (Groq)** | 0.6417 | 0.5475 | 0.5904 |\n",
    "| **Qwen 3 32B** | **0.7249** ⭐ | **0.5650** ⭐ | **0.6690** ⭐ |\n",
    "\n",
    "---\n",
    "\n",
    "### Mejores Rendimientos por Métrica:\n",
    "\n",
    "- **Faithfulness**: Qwen 3 32B - 0.7249\n",
    "- **Answer Relevancy**: Qwen 3 32B - 0.5650  \n",
    "- **Context Precision**: Qwen 3 32B - 0.6690\n",
    "\n",
    "Qwen 3 32B lidera en todas las métricas de evaluación"
   ]
  },
  {
   "cell_type": "code",
   "execution_count": 3,
   "id": "2c4d8f77",
   "metadata": {},
   "outputs": [
    {
     "data": {
      "image/png": "[encoded data removed]",
      "text/plain": [
       "<Figure size 1200x800 with 2 Axes>"
      ]
     },
     "metadata": {},
     "output_type": "display_data"
    }
   ],
   "source": [
    "import pandas as pd\n",
    "import matplotlib.pyplot as plt\n",
    "import seaborn as sns\n",
    "import numpy as np\n",
    "\n",
    "def create_professional_heatmap():\n",
    "    \"\"\"Crear solo el mapa de calor profesional para RAG\"\"\"\n",
    "    \n",
    "    # Cargar todos los modelos\n",
    "    models = {\n",
    "        'Llama Advanced': pd.read_csv(\"resultados_csv/groq_avanzado.csv\"),\n",
    "        'Llama Basic': pd.read_csv(\"resultados_csv/groq2.csv\"),\n",
    "        'Qwen Advanced': pd.read_csv(\"resultados_csv/qwen_avanzado.csv\"),\n",
    "        'Qwen Basic': pd.read_csv(\"resultados_csv/qwen2.csv\"),\n",
    "        'Gemini Advanced': pd.read_csv(\"resultados_csv/gemini_avanzado.csv\"),\n",
    "        'Gemini Basic': pd.read_csv(\"resultados_csv/gemini2.csv\")\n",
    "    }\n",
    "    \n",
    "    metrics = [\"faithfulness\", \"answer_relevancy\", \"context_precision\"]\n",
    "    \n",
    "    # Preparar datos para el heatmap\n",
    "    heatmap_data = []\n",
    "    model_names = []\n",
    "    \n",
    "    for name, df in models.items():\n",
    "        model_names.append(name)\n",
    "        heatmap_data.append([df[metric].mean() for metric in metrics])\n",
    "    \n",
    "    # Crear DataFrame para el heatmap\n",
    "    heatmap_df = pd.DataFrame(\n",
    "        heatmap_data, \n",
    "        columns=['Fidelidad\\n(Faithfulness)', 'Relevancia\\n(Answer Relevancy)', \n",
    "                'Precisión\\n(Context Precision)'],\n",
    "        index=model_names\n",
    "    )\n",
    "    \n",
    "    # Configurar el estilo\n",
    "    plt.figure(figsize=(12, 8))\n",
    "    plt.style.use('default')\n",
    "    \n",
    "    # Crear el heatmap con la paleta original\n",
    "    ax = sns.heatmap(\n",
    "        heatmap_df, \n",
    "        annot=True, \n",
    "        cmap='viridis', \n",
    "        center=0.6,\n",
    "        square=True, \n",
    "        linewidths=2, \n",
    "        cbar_kws={\n",
    "            \"shrink\": .8, \n",
    "            \"label\": \"Puntuación de Rendimiento\"\n",
    "        },\n",
    "        fmt='.3f', \n",
    "        annot_kws={\n",
    "            'fontsize': 12, \n",
    "            'fontweight': 'bold',\n",
    "            'color': 'white'\n",
    "        },\n",
    "        vmin=0, \n",
    "        vmax=1\n",
    "    )\n",
    "    \n",
    "    # Personalizar el estilo de forma más simple\n",
    "    ax.set_title('RAG Models Performance Heatmap', \n",
    "                fontsize=16, fontweight='bold', pad=20)\n",
    "    \n",
    "    # Etiquetas más simples\n",
    "    ax.set_xlabel('Metrics', fontsize=12, fontweight='bold')\n",
    "    ax.set_ylabel('Models', fontsize=12, fontweight='bold')\n",
    "    \n",
    "    # Rotar etiquetas para evitar solapamiento\n",
    "    ax.tick_params(axis='x', rotation=45, labelsize=10)\n",
    "    ax.tick_params(axis='y', rotation=0, labelsize=10)\n",
    "    \n",
    "    # Mejorar la barra de color\n",
    "    cbar = ax.collections[0].colorbar\n",
    "    cbar.ax.tick_params(labelsize=9)\n",
    "    \n",
    "    # Fondo limpio y layout\n",
    "    plt.tight_layout()\n",
    "    \n",
    "    # IMPORTANTE: Guardar ANTES de mostrar\n",
    "    plt.savefig('heatmap_rag_models.png', dpi=300, bbox_inches='tight', \n",
    "                facecolor='white', edgecolor='none')\n",
    "    \n",
    "    # Mostrar el gráfico DESPUÉS de guardar\n",
    "    plt.show()\n",
    "    \n",
    "    return heatmap_df\n",
    "\n",
    "# Crear el heatmap\n",
    "heatmap_data = create_professional_heatmap()"
   ]
  }
 ],
 "metadata": {
  "kernelspec": {
   "display_name": "rag",
   "language": "python",
   "name": "python3"
  },
  "language_info": {
   "codemirror_mode": {
    "name": "ipython",
    "version": 3
   },
   "file_extension": ".py",
   "mimetype": "text/x-python",
   "name": "python",
   "nbconvert_exporter": "python",
   "pygments_lexer": "ipython3",
   "version": "3.11.5"
  }
 },
 "nbformat": 4,
 "nbformat_minor": 5
}
