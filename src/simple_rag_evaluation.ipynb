{
 "cells": [
  {
   "cell_type": "markdown",
   "metadata": {},
   "source": [
    "# Arquitectura RAG: Paso a Paso y Comparativa"
   ]
  },
  {
   "cell_type": "markdown",
   "metadata": {},
   "source": [
    "### Dependencias y Variables de Entorno"
   ]
  },
  {
   "cell_type": "code",
   "execution_count": 1,
   "metadata": {},
   "outputs": [],
   "source": [
    "import os\n",
    "import fitz\n",
    "import numpy as np\n",
    "from dotenv import load_dotenv\n",
    "from groq import Groq\n",
    "from sentence_transformers import SentenceTransformer\n",
    "from typing import List\n",
    "import google.generativeai as genai\n",
    "from openai import OpenAI"
   ]
  },
  {
   "cell_type": "code",
   "execution_count": 37,
   "metadata": {},
   "outputs": [
    {
     "data": {
      "text/plain": [
       "False"
      ]
     },
     "execution_count": 37,
     "metadata": {},
     "output_type": "execute_result"
    }
   ],
   "source": [
    "load_dotenv('/.env', override=True)"
   ]
  },
  {
   "cell_type": "markdown",
   "metadata": {},
   "source": [
    "## Parte 1: Flujo RAG Detallado"
   ]
  },
  {
   "cell_type": "markdown",
   "metadata": {},
   "source": [
    "#### Paso 1: Extracción de Texto"
   ]
  },
  {
   "cell_type": "code",
   "execution_count": 38,
   "metadata": {},
   "outputs": [
    {
     "name": "stdout",
     "output_type": "stream",
     "text": [
      "Primeros 500 caracteres del documento: International Journal of Pharmaceutics 660 (2024) 124345\n",
      "Available online 15 June 2024\n",
      "0378-5173/© 2024 The Authors. Published by Elsevier B.V. This is an open access article under the CC BY license (http://creativecommons.org/licenses/by/4.0/).\n",
      "Review \n",
      "Nanotechnology in medicine revolutionizing drug delivery for cancer and \n",
      "viral infection treatments \n",
      "Emina Karahmet Sher a,*, Mirna Alebi´c g, Marijana Markovi´c Boras b,c, Emina Boˇskailo c, \n",
      "Esma Karahmet Farhat c,d, Alma Karahmet c, Bojan Pavl...\n"
     ]
    }
   ],
   "source": [
    "def extract_text_from_pdf(pdf_path: str) -> str:\n",
    "    doc = fitz.open(pdf_path)\n",
    "    text = \"\"\n",
    "    for page in doc:\n",
    "        text += page.get_text()\n",
    "    return text\n",
    "\n",
    "pdf_path = r'C:\\Users\\danie\\Downloads\\prueba\\1-s2.0-S0378517324005799-main.pdf'\n",
    "document_text = extract_text_from_pdf(pdf_path)\n",
    "\n",
    "print(f\"Primeros 500 caracteres del documento: {document_text[:500]}...\")"
   ]
  },
  {
   "cell_type": "markdown",
   "metadata": {},
   "source": [
    "#### Paso 2: Fragmentación (Chunking)"
   ]
  },
  {
   "cell_type": "code",
   "execution_count": 39,
   "metadata": {},
   "outputs": [
    {
     "name": "stdout",
     "output_type": "stream",
     "text": [
      "Número de chunks: 181\n",
      "\n",
      "Ejemplo de un chunk: \n",
      " International Journal of Pharmaceutics 660 (2024) 124345\n",
      "Available online 15 June 2024\n",
      "0378-5173/© 2024 The Authors. Published by Elsevier B.V. This is an open access article under the CC BY license (http://creativecommons.org/licenses/by/4.0/).\n",
      "Review \n",
      "Nanotechnology in medicine revolutionizing drug delivery for cancer and \n",
      "viral infection treatments \n",
      "Emina Karahmet Sher a,*, Mirna Alebi´c g, Marijana Markovi´c Boras b,c, Emina Boˇskailo c, \n",
      "Esma Karahmet Farhat c,d, Alma Karahmet c, Bojan Pavlovi´c e, Farooq Sher a,**, Lana Leki´c f \n",
      "a School of Science and Technology, Nottingham Trent University, Nottingham NG11 8NS, United Kingdom \n",
      "b Department of Laboratory Diagnostic, University Clinical Hospital Mostar, Mostar 88000, Bosnia and Herzegovina \n",
      "c International Society of Engineering Science and Technology, Nottingham, United Kingdom \n",
      "d Department of Food and Nutrition, Faculty of Food Technology, Juraj Strossmayer University of Osijek, Osijek 31000, Croatia \n",
      "e Faculty of Physical Ed...\n"
     ]
    }
   ],
   "source": [
    "def chunk_text(text: str, chunk_size: int = 1000, overlap: int = 200) -> List[str]:\n",
    "    chunks = []\n",
    "    start = 0\n",
    "    while start < len(text):\n",
    "        end = start + chunk_size\n",
    "        chunks.append(text[start:end])\n",
    "        start = end - overlap\n",
    "    return chunks\n",
    "\n",
    "text_chunks = chunk_text(document_text)\n",
    "\n",
    "print(f\"Número de chunks: {len(text_chunks)}\")\n",
    "print(f\"\\nEjemplo de un chunk: \\n {text_chunks[0]}...\")"
   ]
  },
  {
   "cell_type": "markdown",
   "metadata": {},
   "source": [
    "#### Paso 3: Creación de Embeddings"
   ]
  },
  {
   "cell_type": "code",
   "execution_count": 40,
   "metadata": {},
   "outputs": [
    {
     "name": "stdout",
     "output_type": "stream",
     "text": [
      "Dimensiones de la matriz de embeddings: (181, 384)\n"
     ]
    }
   ],
   "source": [
    "embedding_model = SentenceTransformer('sentence-transformers/all-MiniLM-L6-v2')\n",
    "\n",
    "def create_embeddings(texts: List[str]) -> np.ndarray:\n",
    "    return embedding_model.encode(texts)\n",
    "\n",
    "chunk_embeddings = create_embeddings(text_chunks)\n",
    "\n",
    "print(f\"Dimensiones de la matriz de embeddings: {chunk_embeddings.shape}\")"
   ]
  },
  {
   "cell_type": "markdown",
   "metadata": {},
   "source": [
    "#### Paso 4: Búsqueda Semántica"
   ]
  },
  {
   "cell_type": "code",
   "execution_count": 41,
   "metadata": {},
   "outputs": [
    {
     "name": "stdout",
     "output_type": "stream",
     "text": [
      "Pregunta: Realizame un resumen del documento\n",
      "\n",
      "Chunks más relevantes encontrados (3):\n",
      "--- Chunk 1 \n",
      " nslational \n",
      "difficulties. \n",
      "CRediT authorship contribution statement \n",
      "Emina Karahmet Sher: Writing – review & editing, Writing – \n",
      "original draft, Supervision, Data curation, Conceptualization. Mirna \n",
      "Alebi´c: Writing – original draft, Software, Resources, Investigation. \n",
      "Marijana Markovi´c Boras: Wri...\n",
      "--- Chunk 2 \n",
      " l entry, the \n",
      "conditions in which the implantation of the genome occurs in the host \n",
      "genome, as well as the conditions for transcription of viral structural and \n",
      "nonstructural proteins, and the replication and reconstitution of the \n",
      "virus, can vary significantly from virus to virus but always have s...\n",
      "--- Chunk 3 \n",
      " er tissues. Striving for this goal, in the last \n",
      "10–20 years the use of nanotechnological solutions has surged for tar­\n",
      "geted drug delivery. Basic research in this field continually develops new \n",
      "nanomaterials with improved capabilities, gradually integrating them \n",
      "into clinical applications (Cryer ...\n"
     ]
    }
   ],
   "source": [
    "def _cosine_similarity(vec1: np.ndarray, vec2: np.ndarray) -> float:\n",
    "    return np.dot(vec1, vec2) / (np.linalg.norm(vec1) * np.linalg.norm(vec2))\n",
    "\n",
    "def semantic_search(query_embedding: np.ndarray, chunk_embeddings: np.ndarray, k: int = 3) -> List[int]:\n",
    "    similarity_scores = [\n",
    "        (i, _cosine_similarity(query_embedding, chunk_emb))\n",
    "        for i, chunk_emb in enumerate(chunk_embeddings)\n",
    "    ]\n",
    "    similarity_scores.sort(key=lambda x: x[1], reverse=True)\n",
    "    return [index for index, _ in similarity_scores[:k]]\n",
    "\n",
    "user_query = \"Realizame un resumen del documento\"\n",
    "query_embedding = create_embeddings([user_query])[0]\n",
    "top_indices = semantic_search(query_embedding, chunk_embeddings)\n",
    "relevant_chunks = [text_chunks[i] for i in top_indices]\n",
    "\n",
    "print(f\"Pregunta: {user_query}\")\n",
    "print(f\"\\nChunks más relevantes encontrados ({len(relevant_chunks)}):\")\n",
    "for i, chunk in enumerate(relevant_chunks):\n",
    "    print(f\"--- Chunk {i+1} \\n {chunk[:300]}...\")"
   ]
  },
  {
   "cell_type": "markdown",
   "metadata": {},
   "source": [
    "#### Paso 5: Generación de Respuesta Aumentada"
   ]
  },
  {
   "cell_type": "code",
   "execution_count": 42,
   "metadata": {},
   "outputs": [
    {
     "name": "stdout",
     "output_type": "stream",
     "text": [
      "Respuesta generada: \n",
      " Basándome en el contexto proporcionado, puedo resumir el documento de la siguiente manera:\n",
      "\n",
      "El documento se centra en la utilización de soluciones nanotecnológicas para el entrega dirigida de fármacos. Describe cómo la implantación del genoma viral y la replicación del virus en la célula pueden variar según el tipo de virus, pero siempre tienen el mismo resultado neto: la liberación de virus desde la célula. También se muestra cómo nanocarriers pueden superar barreras extracelulares e intracelulares para entregar fármacos a células objetivo.\n",
      "\n",
      "Además, el documento destaca la importancia de la investigación en nanotecnología para desarrollar nuevos nanomateriales con capacidades mejoradas, que se están integrando gradualmente en aplicaciones clínicas. La FDA y la EMA han aprobado alrededor de 80 medicamentos nanotecnológicos para uso clínico.\n",
      "\n",
      "El objetivo de las mejoras nanotecnológicas es mejorar las propiedades farmacocinéticas y farmacodinámicas de los fármacos, entregarlos precisamente a la estructura objetivo, superar barreras biológicas y facilitar la producción.\n"
     ]
    }
   ],
   "source": [
    "groq_client = Groq(api_key=os.getenv(\"GROQ_API_KEY\"))\n",
    "\n",
    "def generate_augmented_response(user_query: str, relevant_chunks: List[str]) -> str:\n",
    "    context_str = \"\\n\\n\".join(relevant_chunks)\n",
    "    prompt_message = [\n",
    "        {\n",
    "            \"role\": \"system\",\n",
    "            \"content\": \"Eres un asistente que responde preguntas basándote únicamente en el contexto proporcionado. Si la respuesta no está en el contexto, di que no tienes suficiente información.\"\n",
    "        },\n",
    "        {\n",
    "            \"role\": \"user\",\n",
    "            \"content\": f\"Contexto:\\\n",
    "{context_str}\\\\n\\nPregunta: {user_query}\"\n",
    "        }\n",
    "    ]\n",
    "    \n",
    "    chat_completion = groq_client.chat.completions.create(\n",
    "        messages=prompt_message,\n",
    "        model=\"llama3-70b-8192\",\n",
    "    )\n",
    "    return chat_completion.choices[0].message.content\n",
    "\n",
    "final_response = generate_augmented_response(user_query, relevant_chunks)\n",
    "\n",
    "print(f\"Respuesta generada: \\n {final_response}\")"
   ]
  },
  {
   "cell_type": "markdown",
   "metadata": {},
   "source": [
    "## Parte 2: Agrupación en una Clase"
   ]
  },
  {
   "cell_type": "code",
   "execution_count": null,
   "metadata": {},
   "outputs": [],
   "source": [
    "class SimpleRAG:\n",
    "    def __init__(self, model_name: str = 'sentence-transformers/all-MiniLM-L6-v2'):\n",
    "        self.embedding_model = SentenceTransformer(model_name)\n",
    "        self.groq_client = Groq(api_key=os.getenv(\"GROQ_API_KEY\"))\n",
    "        genai.configure(api_key=os.getenv(\"GEMINI_API_KEY\"))\n",
    "        self.open_client = OpenAI(\n",
    "            base_url=\"https://openrouter.ai/api/v1\",\n",
    "            api_key=os.getenv(\"OPENROUTE_API_KEY\")\n",
    "        )\n",
    "    \n",
    "    def extract_text_from_pdf(self, pdf_path: str) -> str:\n",
    "        doc = fitz.open(pdf_path)\n",
    "        text = \"\"\n",
    "        for page in doc:\n",
    "            text += page.get_text()\n",
    "        return text\n",
    "\n",
    "    def chunk_text(self, text: str, chunk_size: int = 1000, overlap: int = 200) -> List[str]:\n",
    "        chunks = []\n",
    "        start = 0\n",
    "        while start < len(text):\n",
    "            end = start + chunk_size\n",
    "            chunks.append(text[start:end])\n",
    "            start = end - overlap\n",
    "        return chunks\n",
    "\n",
    "    def create_embeddings(self, texts: List[str]) -> np.ndarray:\n",
    "        return self.embedding_model.encode(texts)\n",
    "\n",
    "    def _cosine_similarity(self, vec1: np.ndarray, vec2: np.ndarray) -> float:\n",
    "        return np.dot(vec1, vec2) / (np.linalg.norm(vec1) * np.linalg.norm(vec2))\n",
    "\n",
    "    def semantic_search(self, query: str, chunks: List[str], chunk_embeddings: np.ndarray, k: int = 5) -> List[str]:\n",
    "        query_embedding = self.create_embeddings([query])[0]\n",
    "        similarity_scores = [\n",
    "            (i, self._cosine_similarity(query_embedding, chunk_emb))\n",
    "            for i, chunk_emb in enumerate(chunk_embeddings)\n",
    "        ]\n",
    "        similarity_scores.sort(key=lambda x: x[1], reverse=True)\n",
    "        top_indices = [index for index, _ in similarity_scores[:k]]\n",
    "        return [chunks[index] for index in top_indices]\n",
    "\n",
    "    def _generate_llama(self, prompt_message):\n",
    "        chat_completion = self.groq_client.chat.completions.create(\n",
    "            messages=prompt_message,\n",
    "            model=\"llama3-70b-8192\",\n",
    "        )\n",
    "        return chat_completion.choices[0].message.content\n",
    "\n",
    "    def _generate_gemini(self, prompt_message):\n",
    "        model = genai.GenerativeModel(\"gemini-2.0-flash\")\n",
    "        user_prompt = prompt_message[-1][\"content\"]\n",
    "        response = model.generate_content(user_prompt) \n",
    "        return response.text\n",
    "\n",
    "    def _generate_qwen(self, prompt_message):\n",
    "        response = self.open_client.chat.completions.create(\n",
    "            model=\"qwen/qwen2.5-vl-72b-instruct:free\",\n",
    "            messages=prompt_message\n",
    "        )\n",
    "        return response.choices[0].message.content\n",
    "\n",
    "    def query(self, user_query: str, context_chunks: List[str], chunk_embeddings: np.ndarray, model: str = \"llama\") -> str:\n",
    "        relevant_context = self.semantic_search(user_query, context_chunks, chunk_embeddings)\n",
    "        context_str = \"\\n\\n\".join(relevant_context)\n",
    "        prompt_message = [\n",
    "            {\n",
    "                \"role\": \"system\",\n",
    "                \"content\": \"Eres un asistente que responde preguntas basándose únicamente en el contexto proporcionado. Si la respuesta no está en el contexto, di que no tienes suficiente información.\"\n",
    "            },\n",
    "            {\n",
    "                \"role\": \"user\",\n",
    "                \"content\": f\"Contexto:\\\n",
    "{context_str}\\\\n\\nPregunta: {user_query}\"\n",
    "            }\n",
    "        ]\n",
    "        if model == \"llama\":\n",
    "            return self._generate_llama(prompt_message)\n",
    "        elif model == \"gemini\":\n",
    "            return self._generate_gemini(prompt_message)\n",
    "        elif model == \"qwen\":\n",
    "            return self._generate_qwen(prompt_message)\n",
    "        else:\n",
    "            raise ValueError(f\"Modelo no soportado: {model}\")"
   ]
  },
  {
   "cell_type": "markdown",
   "metadata": {},
   "source": [
    "## Parte 3: Comparativa de Modelos"
   ]
  },
  {
   "cell_type": "code",
   "execution_count": 44,
   "metadata": {},
   "outputs": [
    {
     "data": {
      "text/markdown": [
       "Respuesta de llama: \n",
       "El documento parece ser un artículo científico que se centra en la aplicación de soluciones nanotecnológicas para la entrega de medicamentos de manera dirigida y eficiente. A continuación, se presentan los puntos clave del documento:\n",
       "\n",
       "* La entrega de medicamentos es un desafío en la medicina moderna, ya que los medicamentos a menudo no llegan a su destino de manera efectiva.\n",
       "* En los últimos 10-20 años, la nanotecnología ha surgido como una herramienta prometedora para superar este desafío.\n",
       "* Los objetivos de las mejoras nanotecnológicas incluyen:\n",
       " + Mejorar las propiedades farmacocinéticas y farmacodinámicas de los medicamentos sin alterar su estructura molecular.\n",
       " + Entregar los medicamentos de manera precisa a la estructura objetivo.\n",
       " + Superar las barreras biológicas.\n",
       " + Facilitar la producción simple y económica.\n",
       "* Se han aprobado alrededor de 80 nanomedicamentos para uso clínico por la FDA y la EMA.\n",
       "* El futuro de la industria farmacéutica radica en la aplicación de soluciones nanotecnológicas para mejorar los resultados terapéuticos y entregar medicamentos de manera más efectiva.\n",
       "* Sin embargo, es importante abordar y superar las dificultades de traducción entre los hallazgos de los estudios en animales y su aplicación en humanos para facilitar el proceso de aprobación de medicamentos.\n",
       "\n",
       "En general, el documento destaca la importancia de la nanotecnología en la entrega de medicamentos y su potencial para mejorar los resultados terapéuticos en la medicina moderna.\n",
       "\n"
      ],
      "text/plain": [
       "<IPython.core.display.Markdown object>"
      ]
     },
     "metadata": {},
     "output_type": "display_data"
    },
    {
     "data": {
      "text/markdown": [
       "Respuesta de gemini: \n",
       "Este documento trata sobre las aplicaciones de la nanotecnología en la administración de fármacos. Destaca que el uso de nanotecnología ha aumentado en los últimos 10-20 años para la administración dirigida de fármacos, con la aprobación de varios nanomedicamentos para uso clínico. Los objetivos de las mejoras nanotecnológicas incluyen mejorar las propiedades farmacocinéticas y farmacodinámicas de los fármacos, la entrega precisa del fármaco al objetivo, sortear barreras biológicas y facilitar la producción. Además, ejemplifica el uso de nanotransportadores para la administración de fármacos, describiendo su estructura y transporte a través de barreras extracelulares e intracelulares. El documento también menciona la importancia de superar las dificultades traslacionales entre los estudios en animales y su aplicación en humanos para facilitar la aprobación de fármacos.\n",
       "\n",
       "\n"
      ],
      "text/plain": [
       "<IPython.core.display.Markdown object>"
      ]
     },
     "metadata": {},
     "output_type": "display_data"
    },
    {
     "data": {
      "text/markdown": [
       "Respuesta de qwen: \n",
       "El documento parece ser un artículo científico que aborda el uso de nanotecnología en la entrega de medicamentos. Aquí está un resumen basado en la información proporcionada:\n",
       "\n",
       "1. **Uso de Nanotecnología en la Entrega de Medicamentos**: El artículo destaca el aumento en el uso de soluciones nanotecnológicas para la entrega de medicamentos de manera más eficiente y precisa. Se menciona que en las últimas décadas, la investigación en este campo ha llevado al desarrollo de nuevos nanomateriales con capacidades mejoradas, que se están integrando gradualmente en aplicaciones clínicas. La FDA y la EMA han aprobado alrededor de 80 productos de nanomedicina para uso clínico.\n",
       "\n",
       "2. **Objetivos de las Mejoras Nanotecnológicas**: Se describen los objetivos de estas mejoras, que incluyen mejorar las propiedades farmacocinéticas y farmacodinámicas de los medicamentos sin alterar su estructura molecular, entregar el medicamento de manera precisa a la estructura objetivo, superar barreras biológicas y facilitar la producción.\n",
       "\n",
       "3. **Avances y Aplicaciones**: Se menciona un ejemplo específico donde el uso de nanotecnología ha aumentado significativamente la inhibición del crecimiento tumoral en comparación con la monoterapia. Se enfatiza el potencial de la nanotecnología para mejorar los resultados terapéuticos y la entrega de medicamentos, destacando la importancia de la investigación reciente y el enfoque de la comunidad científica en este campo.\n",
       "\n",
       "4. **Desafíos de Traducción**: Se señala la necesidad de abordar los desafíos de traducir los hallazgos de estudios en animales a su aplicabilidad en humanos, lo cual es crucial para facilitar el proceso de aprobación de medicamentos.\n",
       "\n",
       "5. **Contribuciones de los Autores**: Se proporciona una declaración de contribución de autoría (CRediT) que detalla las contribuciones específicas de cada autor en el artículo, como la redacción, la edición, la supervisión, la curación de datos, la conceptualización, la validación, el software, los recursos, la investigación, el análisis formal, la visualización y la administración del proyecto.\n",
       "\n",
       "El documento parece ser una revisión o estudio que explora cómo la nanotecnología puede ser utilizada para mejorar la eficacia de los medicamentos y superar barreras biológicas, con un enfoque en la investigación y desarrollo de nuevas nanomateriales y sus aplicaciones clínicas.\n",
       "\n"
      ],
      "text/plain": [
       "<IPython.core.display.Markdown object>"
      ]
     },
     "metadata": {},
     "output_type": "display_data"
    }
   ],
   "source": [
    "from IPython.display import display, Markdown\n",
    "\n",
    "rag_pipeline = SimpleRAG()\n",
    "\n",
    "# 1. Cargar y procesar el documento una sola vez\n",
    "pdf_path = r'C:\\Users\\danie\\Downloads\\prueba\\1-s2.0-S0378517324005799-main.pdf'\n",
    "text = rag_pipeline.extract_text_from_pdf(pdf_path)\n",
    "chunks = rag_pipeline.chunk_text(text)\n",
    "embeddings = rag_pipeline.create_embeddings(chunks)\n",
    "\n",
    "# 2. Definir la pregunta\n",
    "user_query = \"Realizame un resúmen del documento\"\n",
    "\n",
    "# 3. Obtener y mostrar respuestas de cada modelo\n",
    "models_to_evaluate = [\"llama\", \"gemini\", \"qwen\"]\n",
    "\n",
    "\n",
    "for model_name in models_to_evaluate:\n",
    "    response = rag_pipeline.query(user_query, chunks, embeddings, model=model_name)\n",
    "    display(Markdown(f\"Respuesta de {model_name}: \\n{response}\\n\\n\"))"
   ]
  }
 ],
 "metadata": {
  "kernelspec": {
   "display_name": "nuevo_rag",
   "language": "python",
   "name": "python3"
  },
  "language_info": {
   "codemirror_mode": {
    "name": "ipython",
    "version": 3
   },
   "file_extension": ".py",
   "mimetype": "text/x-python",
   "name": "python",
   "nbconvert_exporter": "python",
   "pygments_lexer": "ipython3",
   "version": "3.10.16"
  }
 },
 "nbformat": 4,
 "nbformat_minor": 4
}
